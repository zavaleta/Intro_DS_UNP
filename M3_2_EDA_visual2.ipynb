{
 "cells": [
  {
   "cell_type": "markdown",
   "metadata": {},
   "source": [
    "# Python para data science na prática\n",
    "---"
   ]
  },
  {
   "cell_type": "markdown",
   "metadata": {},
   "source": [
    "## Análise exploratória de dados (EDA) - Analisis univariante em Python"
   ]
  },
  {
   "cell_type": "markdown",
   "metadata": {},
   "source": [
    "Ao realizar análises univariadas, nosso foco é examinar uma ou mais variáveis individualmente no dataset. A análise pode fornecer insights como mediana, moda, valor máximo, intervalo e detecção de valores discrepantes. Tanto variáveis categóricas quanto numéricas podem ser analisadas univariadamente. \n",
    "\n",
    "Diversas opções de gráficos podem ser utilizadas para ambos os tipos de variáveis, ajudando a entender a distribuição dos dados e a identificar padrões ocultos. Saber quando utilizar cada tipo de gráfico é crucial para garantir a precisão da análise e dos insights obtidos. \n",
    "\n",
    "Neste notebook, abordaremos o seguinte:\n",
    "- Análise univariada usando um histograma\n",
    "- Análise univariada usando um boxplot\n",
    "- Análise univariada usando um gráfico de Violino\n",
    "- Análise univariada usando uma tabela de resumo\n",
    "- Análise univariada usando um gráfico de barras\n",
    "- Análise univariada usando um gráfico de pizza"
   ]
  },
  {
   "cell_type": "code",
   "execution_count": 3,
   "metadata": {},
   "outputs": [],
   "source": [
    "# importando as bibliotecas\n",
    "import matplotlib.pyplot as plt                # importar a biblioteca matplotlib\n",
    "import numpy as np                             # importar numpy\n",
    "import pandas as pd                            # importat pandas\n",
    "import seaborn as sns                          # seaborn\n",
    "%matplotlib inline                            \n",
    "#%config InlineBackend.figure_format='svg'\n",
    "#plt.style.use('classic')                       # estilo da biblioteca"
   ]
  },
  {
   "cell_type": "code",
   "execution_count": null,
   "metadata": {},
   "outputs": [],
   "source": [
    "# leitura do dataset\n",
    "pinguin_data = pd.read_csv(\"data/penguins_size.csv\") # ,index_col=0)\n",
    "pinguin_data.head()"
   ]
  },
  {
   "cell_type": "markdown",
   "metadata": {},
   "source": [
    "Usar colunas com dados relevantes"
   ]
  },
  {
   "cell_type": "code",
   "execution_count": null,
   "metadata": {},
   "outputs": [],
   "source": [
    "pinguins_rel = pinguin_data[['species', 'culmen_length_mm', 'culmen_depth_mm']]\n",
    "pinguins_rel.head()"
   ]
  },
  {
   "cell_type": "code",
   "execution_count": null,
   "metadata": {},
   "outputs": [],
   "source": [
    "# dimesões\n",
    "print('Dim:',pinguins_rel.shape)\n",
    "print('Tipos:',pinguins_rel.dtypes)"
   ]
  },
  {
   "cell_type": "markdown",
   "metadata": {},
   "source": [
    "### Análise univariada usando um histograma \n",
    "\n",
    "Ao visualizar uma variável numérica em nosso conjunto de dados, o histograma é uma das várias opções disponíveis. Um histograma, parecido com um gráfico de barras, oferece insights sobre a distribuição de frequência de um conjunto de dados contínuo. No histograma, o eixo x representa valores contínuos divididos em compartimentos ou intervalos, enquanto o eixo y mostra o número ou a porcentagem de ocorrências em cada compartimento.\n",
    "\n",
    "Com o histograma, podemos identificar rapidamente valores discrepantes, dispersão de dados, assimetria e muito mais. \n",
    "\n"
   ]
  },
  {
   "cell_type": "markdown",
   "metadata": {},
   "source": [
    "Histograma com detalhes básico"
   ]
  },
  {
   "cell_type": "code",
   "execution_count": null,
   "metadata": {},
   "outputs": [],
   "source": [
    "# histograma com detalhes basicos\n",
    "sns.histplot(data=pinguins_rel, x=pinguins_rel[\"culmen_length_mm\"]);"
   ]
  },
  {
   "cell_type": "code",
   "execution_count": null,
   "metadata": {},
   "outputs": [],
   "source": [
    "plt.figure(figsize= (12,6))  \n",
    "ax = sns.histplot( data = pinguins_rel, x= pinguins_rel[\"culmen_length_mm\"])  \n",
    "ax.set_xlabel('comprimento do Culmen em mm',fontsize = 15)  \n",
    "ax.set_ylabel('Número de registros', fontsize = 15)  \n",
    "ax.set_title('Análises Univariada do comprimento do Culmen', fontsize= 20);"
   ]
  },
  {
   "cell_type": "markdown",
   "metadata": {},
   "source": [
    "### Análise univariada usando um boxplot \n",
    "\n",
    "Assim como o histograma, o boxplot (também conhecido como whisker plot) é um bom candidato para visualizar uma única variável contínua no dataset. \n",
    "\n",
    "Os boxplots nos dão uma noção da distribuição subjacente de nosso conjunto de dados por meio de cinco métricas principais. As métricas incluem os valores mínimo, primeiro quartil, mediana, terceiro quartil e máximo.\n",
    "\n",
    "![boxplot](images/box-plot.png)\n",
    "\n",
    "Na figura anterior, podemos ver os seguintes componentes de um boxplot:\n",
    "- A caixa: representa o intervalo interquartil (percentil 25/1º quartil até percentil 75/3º quartil)\n",
    "- A mediana é a linha dentro da caixa e também é chamada de percentil 50. \n",
    "- Os limites: Os limites superior e inferior representam o intervalo de valores no dataset que não são discrepantes. A posição do limite é calculada a partir do intervalo interquartil (IQR), 1º quartil e 3º quartil. Isso é representado por Q1 - 1,5(IQR) e Q3 + 1,5(IQR) para o limite inferior e superior, respectivamente.\n",
    "- Os círculos: os círculos inferior e superior fora dos limites representam valores discrepantes no dataset. Esses valores discrepantes são valores excepcionalmente pequenos abaixo do limite inferior ou valores excepcionalmente grandes acima do limite máximo. \n",
    "\n",
    "Com boxplots, podemos obter insights sobre a distribuição de dataset e identificar facilmente valores discrepantes. "
   ]
  },
  {
   "cell_type": "code",
   "execution_count": null,
   "metadata": {},
   "outputs": [],
   "source": [
    "# leitura do dataset\n",
    "valorcasa_data = pd.read_csv(\"data/HousingPricesData.csv\",index_col=0) # ,index_col=0)\n",
    "valorcasa_data.head()"
   ]
  },
  {
   "cell_type": "code",
   "execution_count": null,
   "metadata": {},
   "outputs": [],
   "source": [
    "# valores relevantes\n",
    "valorcasas_rel = valorcasa_data[['Zip','Price','Area','Room']]\n",
    "valorcasas_rel.head()"
   ]
  },
  {
   "cell_type": "markdown",
   "metadata": {},
   "source": [
    "Criando o box-plot"
   ]
  },
  {
   "cell_type": "code",
   "execution_count": null,
   "metadata": {},
   "outputs": [],
   "source": [
    "# box-plot\n",
    "sns.barplot(data=valorcasas_rel, x=valorcasas_rel['Price']);"
   ]
  },
  {
   "cell_type": "code",
   "execution_count": null,
   "metadata": {},
   "outputs": [],
   "source": [
    "# exemplo\n",
    "tips = sns.load_dataset('tips')\n",
    "# Criando um boxplot\n",
    "sns.boxplot(x='day', y='total_bill', data=tips)\n",
    "# Exibindo o gráfico\n",
    "plt.show()"
   ]
  },
  {
   "cell_type": "code",
   "execution_count": null,
   "metadata": {},
   "outputs": [],
   "source": [
    "#\n",
    "plt.figure(figsize= (12,6))  \n",
    "ax = sns.boxplot(data=valorcasas_rel, x=valorcasas_rel['Price'])  \n",
    "ax.set_xlabel('Preços de casas',fontsize = 15)  \n",
    "ax.set_title('Analises univariado de preços de casas', fontsize= 20)  \n",
    "plt.ticklabel_format(style='plain', axis='x')"
   ]
  },
  {
   "cell_type": "markdown",
   "metadata": {},
   "source": [
    "### Análise univariada usando um gráfico de violino \n",
    "\n",
    "Um gráfico de violino é bastante parecido com um boxplot porque representa a distribuição de nosso conjunto de dados. O gráfico do violino mostra o pico de nossos dados e onde a maioria dos valores em nosso conjunto de dados está agrupada. \n",
    "\n",
    "Assim como os boxplots fornecem estatísticas resumidas sobre os dados, os plots do violino  fazem o mesmo, além de fornecer informações adicionais sobre a forma de nossos dados.\n",
    "\n",
    "![Violino](images/violino.png)\n",
    "\n",
    "Na figura acima, podemos ver os seguintes componentes de um gráfico de violino:\n",
    "- *A linha grossa*: representa o intervalo interquartil (percentil 25/1º quartil até percentil 75/3º quartil).\n",
    "- *O ponto branco*: representa a mediana (percentil 50).\n",
    "- *A linha fina*: é semelhante aos limites superior e inferior do boxplot. Ele representa o intervalo de valores nos conjunto de dados que não são discrepantes. Os limites inferior e superior da linha são calculados a partir do IIQ entre o 1º quartil e o 3º quartil. Isso é representado por Q1 - 1,5(IQR) e Q3 + 1,5(IQR) para os limites inferior e superior, respectivamente.\n",
    "- *O gráfico de densidade do kernel*: exibe a forma da distribuição dos dados subjacentes. Os pontos de dados no conjunto de dados têm maior probabilidade de estar nas seções mais largas (picos) e menor probabilidade de cair nas seções mais finas (caudas). \n",
    "\n"
   ]
  },
  {
   "cell_type": "code",
   "execution_count": null,
   "metadata": {},
   "outputs": [],
   "source": [
    "# usando o dataset anterior\n",
    "valorcasas_rel.head()"
   ]
  },
  {
   "cell_type": "markdown",
   "metadata": {},
   "source": [
    "Criando o gráfico do violino usando o método de `violinplot`"
   ]
  },
  {
   "cell_type": "code",
   "execution_count": null,
   "metadata": {},
   "outputs": [],
   "source": [
    "# violinplot\n",
    "sns.violinplot(data=valorcasas_rel,x=valorcasas_rel['Price']);"
   ]
  },
  {
   "cell_type": "markdown",
   "metadata": {},
   "source": [
    "Addicionado maiores detalhes ao gráfico"
   ]
  },
  {
   "cell_type": "code",
   "execution_count": null,
   "metadata": {},
   "outputs": [],
   "source": [
    "plt.figure(figsize= (12,6)) \n",
    "ax = sns.violinplot(data =valorcasas_rel, x=valorcasas_rel['Price']) \n",
    "ax.set_xlabel('Preços de casas em milhões',fontsize = 15) \n",
    "ax.set_title( 'Análise univariada de preços de casas', fontsize= 20) \n",
    "plt.ticklabel_format(style='plain', axis='x')"
   ]
  },
  {
   "cell_type": "markdown",
   "metadata": {},
   "source": [
    "### Análise univariada usando uma tabela de resumo \n",
    "\n",
    "Na análise univariada, uma tabela de resumo é muito útil para analisar valores numéricos no conjunto de dados. Em Python, essas tabelas de resumo apresentam estatísticas que resumem a tendência central, a dispersão e a forma da distribuição do conjunto de dados. \n",
    "\n",
    "As estatísticas abrangidas incluem a contagem de registos não vazios, média, desvio padrão, mínimo, máximo, percentil 25, percentil 50 e percentil 75. \n",
    "\n",
    "Nos pandas, o método de `descrbe()` fornece a essas tabelas de resumo todas as estatísticas mencionadas."
   ]
  },
  {
   "cell_type": "code",
   "execution_count": null,
   "metadata": {},
   "outputs": [],
   "source": [
    "# usando o mesmo dataset original\n",
    "cep_preco = valorcasas_rel[['Zip','Price']]\n",
    "cep_preco.head()"
   ]
  },
  {
   "cell_type": "markdown",
   "metadata": {},
   "source": [
    "Criar um resumo da tabela usando o método `descrebe()`."
   ]
  },
  {
   "cell_type": "code",
   "execution_count": null,
   "metadata": {},
   "outputs": [],
   "source": [
    "# tabela resumo\n",
    "cep_preco.describe()"
   ]
  },
  {
   "cell_type": "markdown",
   "metadata": {},
   "source": [
    "### Análise univariada usando um gráfico de barras \n",
    "\n",
    "Assim como os histogramas, os gráficos de barras consistem em barras retangulares. Porém, enquanto o histograma analisa dados numéricos, o gráfico de barras analisa categorias. \n",
    "\n",
    "O eixo x normalmente representa as categorias no dataset, enquanto o eixo y representa a contagem das categorias ou suas ocorrências por porcentagem. Em alguns casos, o eixo y também pode ser a soma ou média de uma coluna numérica no dataset. \n",
    "\n",
    "O gráfico de barras fornece `insights` rápidos, especialmente quando precisamos comparar rapidamente categorias no dataset. \n",
    "\n",
    "Seaborn também possui um método barplot. Enquanto o countplot traça a contagem de cada categoria, o barplot traça uma variável numérica em relação a cada categoria. Isso torna o countplot mais adequado para análise univariada, enquanto o método barplot é mais adequado para análise bivariada."
   ]
  },
  {
   "cell_type": "code",
   "execution_count": null,
   "metadata": {},
   "outputs": [],
   "source": [
    "# dataset se pinguins\n",
    "pinguins_rel.head()"
   ]
  },
  {
   "cell_type": "code",
   "execution_count": null,
   "metadata": {},
   "outputs": [],
   "source": [
    "#\n",
    "sns.countplot(data=pinguins_rel,x=pinguins_rel['species'],\n",
    "              hue=pinguins_rel['species'], palette='coolwarm');"
   ]
  },
  {
   "cell_type": "markdown",
   "metadata": {},
   "source": [
    "Adicionando detalhes ao gráfico"
   ]
  },
  {
   "cell_type": "code",
   "execution_count": null,
   "metadata": {},
   "outputs": [],
   "source": [
    "plt.figure(figsize= (12,6)) \n",
    "ax = sns.countplot(data=pinguins_rel, x= pinguins_rel['species'],\n",
    "                   hue=pinguins_rel['species'], palette='coolwarm') \n",
    "ax.set_xlabel('Especie de Pinguin',fontsize = 15) \n",
    "ax.set_ylabel('Contagem de registros', fontsize = 15) \n",
    "ax.set_title('Análise univariada de espécies de pinguins', fontsize= 20)\n",
    "ax.set_title('Análise univariada do comprimento de Culmen', fontsize= 20);"
   ]
  },
  {
   "cell_type": "markdown",
   "metadata": {},
   "source": [
    "### Análise univariada usando um gráfico de pizza \n",
    "\n",
    "Um gráfico de pizza é um visual circular que exibe os tamanhos relativos de diversas categorias. Cada fatia de um gráfico de pizza representa uma categoria e o tamanho de cada categoria é proporcional à sua fração do tamanho total dos dados, normalmente 100%. Os gráficos de pizza permitem comparar facilmente várias categorias. \n",
    "\n",
    "Seaborn não possui um método de gráfico de pizza para criar gráficos de pizza, portanto, usaremos matplotlib para conseguir isso. O método pie em matplotlib pode ser usado para isso."
   ]
  },
  {
   "cell_type": "code",
   "execution_count": null,
   "metadata": {},
   "outputs": [],
   "source": [
    "# usando o mesmo dataset anterior\n",
    "pinguins_rel.head()"
   ]
  },
  {
   "cell_type": "code",
   "execution_count": null,
   "metadata": {},
   "outputs": [],
   "source": [
    "# agrupando os pinguins em especies\n",
    "grupo_pinguins = pinguins_rel.groupby('species').count()\n",
    "grupo_pinguins"
   ]
  },
  {
   "cell_type": "code",
   "execution_count": null,
   "metadata": {},
   "outputs": [],
   "source": [
    "# reser indices\n",
    "grupo_pinguins = grupo_pinguins.reset_index()\n",
    "grupo_pinguins"
   ]
  },
  {
   "cell_type": "markdown",
   "metadata": {},
   "source": [
    "Criando o gráfico de pizza usando o método `pie`"
   ]
  },
  {
   "cell_type": "code",
   "execution_count": null,
   "metadata": {},
   "outputs": [],
   "source": [
    "plt.pie(grupo_pinguins['culmen_length_mm'], labels=grupo_pinguins['species'])\n",
    "plt.show()"
   ]
  },
  {
   "cell_type": "markdown",
   "metadata": {},
   "source": []
  },
  {
   "cell_type": "markdown",
   "metadata": {},
   "source": [
    "Adicionando detalhes à pizza"
   ]
  },
  {
   "cell_type": "code",
   "execution_count": null,
   "metadata": {},
   "outputs": [],
   "source": [
    "cores =['g','b','r']\n",
    "plt.pie(grupo_pinguins['culmen_length_mm'], labels=grupo_pinguins['species'], colors=cores)\n",
    "plt.title('Análises univariado das especies de pinguins')\n",
    "plt.show()"
   ]
  },
  {
   "cell_type": "code",
   "execution_count": null,
   "metadata": {},
   "outputs": [],
   "source": []
  },
  {
   "cell_type": "code",
   "execution_count": null,
   "metadata": {},
   "outputs": [],
   "source": []
  },
  {
   "cell_type": "markdown",
   "metadata": {},
   "source": [
    "---\n",
    "Python para data science na prática &copy; Jorge Zavaleta, 2024"
   ]
  }
 ],
 "metadata": {
  "kernelspec": {
   "display_name": "EDA",
   "language": "python",
   "name": "python3"
  },
  "language_info": {
   "codemirror_mode": {
    "name": "ipython",
    "version": 3
   },
   "file_extension": ".py",
   "mimetype": "text/x-python",
   "name": "python",
   "nbconvert_exporter": "python",
   "pygments_lexer": "ipython3",
   "version": "3.10.14"
  }
 },
 "nbformat": 4,
 "nbformat_minor": 2
}
