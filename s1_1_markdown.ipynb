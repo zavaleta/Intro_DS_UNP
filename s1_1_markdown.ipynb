{
 "cells": [
  {
   "cell_type": "markdown",
   "metadata": {
    "id": "WJEBJ372kJml"
   },
   "source": [
    "![UNP](images/logo_unp_1.png)\n",
    "# Introducción a Ciencia de Datos usando Python"
   ]
  },
  {
   "cell_type": "markdown",
   "metadata": {},
   "source": [
    "---\n",
    "### Prof. Dr. Jorge Zavaleta - [e-mail](mailto:jorge.zavaleta@ppgi.ufrj.br)"
   ]
  },
  {
   "cell_type": "markdown",
   "metadata": {
    "id": "v1jqACqhkJmr"
   },
   "source": [
    "---\n",
    "# Módulo 1 - Introducción a Markdown"
   ]
  },
  {
   "cell_type": "markdown",
   "metadata": {
    "id": "P-vaVISHkJms"
   },
   "source": [
    "> ## ¿Qué es Markdown?\n",
    "\n",
    "Markdown es un lenguaje de marcado ligero que se puede utilizar para agregar elementos de formato a documentos de texto sin formato. Creado por John Gruber en 2004, Markdown es ahora uno de los lenguajes de marcado más populares del mundo.\n",
    "\n",
    "El uso de Markdown es diferente al uso de un editor WYSIWYG. En una aplicación como Microsoft Word, se hace clic en botones para dar formato a palabras y frases, y los cambios son visibles de inmediato. Markdown no es así. Cuando se crea un archivo con formato Markdown, se agrega sintaxis Markdown al texto para indicar qué palabras y frases deben verse diferentes.\n",
    "\n",
    "El lenguaje Markdown es ampliamente utilizado en plataformas como GitHub para crear archivos *README*, en blogs y en diversas herramientas de edición de texto debido a su simplicidad y facilidad de conversión a *HTML*.\n",
    "\n",
    "Por ejemplo, para indicar un encabezado, se agrega un signo de número antes (p. ej., # Encabezado Uno). Para poner una frase en negrito, se agregan dos asteriscos antes y después (p. ej., **este texto está en negrito**). Puede llevar un tiempo acostumbrarse a ver la sintaxis Markdown en el texto, especialmente si se está acostumbrado a las aplicaciones WYSIWYG. \n",
    "\n",
    "La siguiente captura de pantalla muestra un archivo **README.md** en Markdown que se muestra en el editor de texto de haroopad."
   ]
  },
  {
   "cell_type": "markdown",
   "metadata": {},
   "source": [
    "![Editor](images/makdown.png)"
   ]
  },
  {
   "cell_type": "markdown",
   "metadata": {},
   "source": [
    "Se puede agregar elementos de formato Markdown a un archivo de texto sin formato mediante una aplicación de edición de texto. O se puede usar una de las muchas aplicaciones Markdown para sistemas operativos macOS, Windows, Linux, iOS y Android. También hay varias aplicaciones basadas en la web diseñadas específicamente para escribir en Markdown.\n",
    "\n",
    "Dependiendo de la aplicación que se use, es posible que no se pueda obtener una vista previa del documento formateado en tiempo real. Pero, la sintaxis Markdown está diseñada para ser legible y discreta, por lo que el texto en archivos Markdown se pueden leer incluso si no se procesa."
   ]
  },
  {
   "cell_type": "markdown",
   "metadata": {},
   "source": [
    "## ¿Por qué usar Markdown?\n",
    "\n",
    "Razones para usar Markdown:\n",
    "- *Markdown se puede usar para todo* - La gente lo usa para crear sitios web, documentos, notas, libros, presentaciones, mensajes de correo electrónico y documentación técnica.\n",
    "\n",
    "- *Markdown es portátil* - Los archivos que contienen texto con formato Markdown se pueden abrir usando prácticamente cualquier aplicación. Si decides que no te gusta la aplicación Markdown que estás usando actualmente, puedes importar tus archivos Markdown a otra aplicación Markdown. Esto contrasta marcadamente con las aplicaciones de procesamiento de texto como Microsoft Word que bloquean tu contenido en un formato de archivo propietario.\n",
    "\n",
    "- *Markdown es independiente de la plataforma* - Puedes crear texto con formato Markdown en cualquier dispositivo que ejecute cualquier sistema operativo.\n",
    "\n",
    "- *Markdown es a prueba de futuro* - Incluso si la aplicación que estás usando deja de funcionar en algún momento en el futuro, aún podrás leer tu texto con formato Markdown usando una aplicación de edición de texto. Esto es algo importante a tener en cuenta cuando se trata de libros, tesis universitarias y otros documentos importantes que deben conservarse indefinidamente.\n",
    "\n",
    "- *Markdown está en todas partes* - Sitios web como Reddit y GitHub admiten Markdown, y muchas aplicaciones de escritorio y basadas en la web lo admiten."
   ]
  },
  {
   "cell_type": "markdown",
   "metadata": {
    "id": "WRqMgoX1kJmt"
   },
   "source": [
    "## Sintaxis básica\n",
    "\n",
    "La mayoría de las aplicaciones Markdown admiten la sintaxis básica descrita en el documento de diseño original de John Gruber. Existen ligeras variaciones y discrepancias entre los procesadores Markdown, que se anotan siempre que es posible. \n",
    "\n",
    "Usar Markdown no significa que no puedas usar HTML también. Se puede agregar etiquetas HTML a cualquier archivo Markdown. Esto es útil si se prefiere ciertas etiquetas HTML a la sintaxis de Markdown. Por ejemplo, a algunas personas les resulta más fácil utilizar etiquetas HTML para imágenes."
   ]
  },
  {
   "cell_type": "markdown",
   "metadata": {
    "id": "qjXmUgjxkJmv"
   },
   "source": [
    "### Títulos\n",
    "\n",
    "Para crear un título, agregue signos numéricos (#) antes de una palabra o frase. La cantidad de signos numéricos que utilice debe coincidir con el nivel del título. Por ejemplo, para crear un encabezado de nivel tres $(<h3>)$, utilice tres signos numéricos."
   ]
  },
  {
   "cell_type": "markdown",
   "metadata": {},
   "source": [
    "| Markdown              | HTML                              |\n",
    "|:----------------------|:----------------------------------|\n",
    "| # Título 1            | <h1> Título 1 </h1>               |\n",
    "| ## Título 2           | <h2> Título 2 </h2>               |\n",
    "| ### Título 3          | <h3> Título 3 </h3>               |\n",
    "| #### Título 4         | <h4> Título 4 </h4>               |\n",
    "| ##### Título 5        | <h5> Título 5 </h5>               |\n",
    "| ###### Título 6       | <h6> Título 6 </h6>               |"
   ]
  },
  {
   "cell_type": "markdown",
   "metadata": {},
   "source": [
    "### Ejemplos de uso de títulos\n",
    "> # Título 1 - Introducción a Ciencia de Datos\n",
    "> ## Título 2 - Introducción a Ciencia de Datos\n",
    "> ### Título 3 - Introducción a Ciencia de Datos\n",
    "> #### Título 4 - Introducción a Ciencia de Datos\n",
    "> ##### Título 5 - Introducción a Ciencia de Datos\n",
    "> ###### Título 6 - Introducción a Ciencia de Datos"
   ]
  },
  {
   "cell_type": "markdown",
   "metadata": {},
   "source": [
    "## Parágrafos \n",
    "\n",
    "Para escribir párrafos, utilizar una línea en blanco para separar una o más líneas de texto. No es necesario identar párrafos con espacios o tabs."
   ]
  },
  {
   "cell_type": "markdown",
   "metadata": {},
   "source": [
    "Ejemplo de uso de parágrafos\n",
    "\n",
    ">El markdown es bien simple de usar. El markdown funciona bien y resuelve apuros de los programadores. \n",
    ">\n",
    "> <p>El markdown es bien simple de usar.</p>\n",
    "> <p>El markdown funciona bien y resuelve apuros de los programadores.</p>"
   ]
  },
  {
   "cell_type": "markdown",
   "metadata": {},
   "source": [
    "## Saltos de línea \n",
    "\n",
    "Para crear un salto de línea (\\<br\\>), finalizar la línea con dos o más espacios y presione a tecla retorno."
   ]
  },
  {
   "cell_type": "markdown",
   "metadata": {},
   "source": [
    "## Énfasis\n",
    "Puede agregar énfasis poniendo el texto en **negrito** o *itálico (cursivo)*."
   ]
  },
  {
   "cell_type": "markdown",
   "metadata": {},
   "source": [
    "### Negrito \n",
    "\n",
    "Para texto en negrito, agregue dos asteriscos (*) o guiones bajos (_) antes y después de una palabra o frase. Para poner en negrito la mitad de una palabra para darle énfasis, agregue dos asteriscos sin espacios alrededor de las letras."
   ]
  },
  {
   "cell_type": "markdown",
   "metadata": {},
   "source": [
    "Ejemplo de uso:\n",
    "\n",
    "El curso de `**Data Science**` es muy importante para los `__profesionales__` de los dias actuales.\n",
    "\n",
    "El curso de **Data Science** es muy importante para los __profesionales__ de los dias actuales."
   ]
  },
  {
   "cell_type": "markdown",
   "metadata": {},
   "source": [
    "### Itálico (cursiva)"
   ]
  },
  {
   "cell_type": "markdown",
   "metadata": {},
   "source": [
    "Para poner texto en itálico (cursiva), agregue un asterisco o guión bajo antes y después de una palabra o frase. Para poner en cursiva la mitad de una palabra para darle énfasis, agregue un asterisco sin espacios alrededor de las letras."
   ]
  },
  {
   "cell_type": "markdown",
   "metadata": {},
   "source": [
    "Ejemplo de uso:\n",
    "\n",
    "El curso de `*Data Science*` es muy importante para los `_profesionales_` de los dias actuales.\n",
    "\n",
    "El curso de *Data Science* es muy importante para los _profesionales_ de los dias actuales."
   ]
  },
  {
   "cell_type": "markdown",
   "metadata": {},
   "source": [
    "### Negrito y cursivo \n",
    "\n",
    "Para enfatizar el texto en negrito y cursivo al mismo tiempo, agregue tres asteriscos o subrayados bajos antes y después de una palabra o frase."
   ]
  },
  {
   "cell_type": "markdown",
   "metadata": {},
   "source": [
    "Ejemplo de uso:\n",
    "\n",
    "`***Markdown***` es un lenguaje de marcado ligero que se puede utilizar para agregar elementos de formato a documentos de texto sin formato. Creado por `___John Gruber___` en 2004, Markdown es ahora uno de los lenguajes de marcado más populares del mundo.\n",
    "\n",
    "***Markdown*** es un lenguaje de marcado ligero que se puede utilizar para agregar elementos de formato a documentos de texto sin formato. Creado por ___John Gruber___ en 2004, Markdown es ahora uno de los lenguajes de marcado más populares del mundo."
   ]
  },
  {
   "cell_type": "markdown",
   "metadata": {},
   "source": [
    "## Citas en bloque (blockquotes)\n",
    "\n",
    "Para crear una cita en bloque, agregue un > delante de un párrafo. Las citas en bloque pueden contener varios párrafos. Agregue un > en las líneas en blanco entre párrafos."
   ]
  },
  {
   "cell_type": "markdown",
   "metadata": {},
   "source": [
    "Ejemplo de uso:\n",
    "\n",
    "`>` Araruama es una ciudad del litoral de Rio de Janeiro, muy bonita y de gente muy amable.\n",
    "\n",
    "`>`\n",
    "\n",
    "`>` Tiene lindas playas y  restaurantes para disfrutar una buena frejolada.\n",
    "\n",
    "> Araruama es una ciudad del litoral de Rio de Janeiro, muy bonita y de gente muy amable.\n",
    ">\n",
    "> Tiene lindas playas y  restaurantes para disfrutar una buena frejolada."
   ]
  },
  {
   "cell_type": "markdown",
   "metadata": {},
   "source": []
  },
  {
   "cell_type": "markdown",
   "metadata": {},
   "source": []
  },
  {
   "cell_type": "markdown",
   "metadata": {},
   "source": [
    "## Blockquotes anidados \n",
    "\n",
    "Las citas en bloque se pueden anidar. Agregue un >> delante del párrafo que desea anidar."
   ]
  },
  {
   "cell_type": "markdown",
   "metadata": {},
   "source": [
    "Ejemplo de uso:\n",
    "\n",
    "> Araruama es una ciudad del litoral de Rio de Janeiro, muy bonita y de gente muy amable.\n",
    ">\n",
    ">> Tiene lindas playas y  restaurantes para disfrutar una buena frejolada."
   ]
  },
  {
   "cell_type": "markdown",
   "metadata": {},
   "source": [
    "## Blockquotes con otros elementos \n",
    "\n",
    "Las citas en bloque pueden contener otros elementos formateados en Markdown. No se pueden utilizar todos los elementos - se deberá experimentar para ver cuáles funcionan."
   ]
  },
  {
   "cell_type": "markdown",
   "metadata": {},
   "source": [
    "Ejemplo de uso:\n",
    "\n",
    "> #### Tengo algunos amigos en  Piura\n",
    "> Ellos trabajan en la Universidad Nacional de Piura.\n",
    "> - En el departamento de Matemáticas\n",
    ">\n",
    ">> * Me gustaria volver a visitar a los amigos de la UNP."
   ]
  },
  {
   "cell_type": "markdown",
   "metadata": {},
   "source": [
    "## Bloques de código \n",
    "\n",
    "Los bloques de código pueden tener una sangría (identación) de cuatro espacios o una tabulación. Cuando están en una lista, se les aplica una sangría de ocho espacios o dos tabulaciones."
   ]
  },
  {
   "cell_type": "markdown",
   "metadata": {},
   "source": [
    "Ejemplo de uso:\n",
    "\n",
    "`1. Este es un manual de markdown`\n",
    "\n",
    "        `2. Piura es una bonita ciudad`\n",
    "\n",
    "            `3. La violencia esta por todo lado`\n",
    "\n",
    "1. Este es un manual de markdown\n",
    "    \n",
    "    2. Piura es una bonita ciudad\n",
    "        \n",
    "        3. La violencia esta por todo lado"
   ]
  },
  {
   "cell_type": "markdown",
   "metadata": {},
   "source": [
    "## Links (enlaces)"
   ]
  },
  {
   "cell_type": "markdown",
   "metadata": {},
   "source": [
    "Para crear un link, incluir el texto del link entre corchetes (por ejemplo, [UNP]) y seguido inmediatamente con la URL entre paréntesis (por ejemplo, (https://www.unp.edu.pe/unp/))."
   ]
  },
  {
   "cell_type": "markdown",
   "metadata": {},
   "source": [
    "Hay dos formas de insertar un enlace en Markdown, a través de un **enlace directo** o usando **texto ancora**:\n",
    "\n",
    "- **Enlace directo**: incluir la dirección web entre llaves <>. La dirección será visible y podrá hacer clic por parte del usuario. La dirección en forma de **enlace directo** tiene el formato `<https://github.com/zavaleta/Intro_DS_UNP>`\n",
    "\n",
    "- **Texto ancora**: utiliza los caracteres `[]()`, añadiendo entre llaves el texto que se quiere que aparezca, y entre paréntesis, la dirección de destino, en el formato `[UNP](https://www.unp.edu.pe/unp/)`"
   ]
  },
  {
   "cell_type": "markdown",
   "metadata": {},
   "source": [
    "## URL y direcciones de correo electrónico \n",
    "\n",
    "Para convertir rápidamente una URL o una dirección de correo electrónico en un enlace, enciérrela entre corchetes angulares.\n",
    "\n",
    "Ejemplos de uso:\n",
    "\n",
    "Gmail: <https://www.gmail.com>\n",
    "\n",
    "UNP: <https://www.unp.edu.pe/unp/>\n",
    "\n",
    "E-mail: <mailto:zavaleta@pet-si.ufrrj.br>"
   ]
  },
  {
   "cell_type": "markdown",
   "metadata": {},
   "source": [
    "## Listas\n",
    "\n",
    "Se puede organizar elementos en listas ordenadas y desordenadas."
   ]
  },
  {
   "cell_type": "markdown",
   "metadata": {},
   "source": [
    "### Listas ordenadas \n",
    "\n",
    "Para crear una lista ordenada, agregue elementos de línea con números seguidos de puntos. Los números no tienen que estar en orden numérico, pero la lista debe comenzar con el número uno.\n",
    "\n",
    "```\n",
    "1. Item 1\n",
    "2. Item 2\n",
    "3. Item 3\n",
    "6. Item 4\n",
    "```\n",
    "Visualización de ejemplo de lista ordenada\n",
    "\n",
    "1. Item 1\n",
    "2. Item 2\n",
    "3. Item 3\n",
    "6. Item 4"
   ]
  },
  {
   "cell_type": "markdown",
   "metadata": {},
   "source": [
    "### Anidamiento de elementos de lista \n",
    "\n",
    "Para anidar elementos de una lista en una lista ordenada, usar a identación en los elementos con cuatro espacios o una tabulación.\n",
    "```\n",
    "1. Primer item 2 \n",
    "2. Segundo item 3 \n",
    "3. Tercer item 4 \n",
    "    1. Identación del item 5 \n",
    "    2. Identación del item 6 \n",
    "4. Quarto item\n",
    "```\n",
    "Visualización de lista identada\n",
    "1. Primer item 2 \n",
    "2. Segundo item 3 \n",
    "3. Tercer item 4 \n",
    "    1. Identación del item 5 \n",
    "    2. Identación del item 6 \n",
    "4. Quarto item\n",
    "\n",
    "\n",
    "\n",
    "\n"
   ]
  },
  {
   "cell_type": "markdown",
   "metadata": {},
   "source": [
    "### Listas desordenadas o no ordenadas\n",
    "\n",
    "Para crear una lista desordenada, agregue guiones (-), asteriscos (*) o signos más (+) delante de las líneas de pedido.\n",
    "```\n",
    " - Item 1\n",
    " * Item 2\n",
    " * Item 3 \n",
    " + Item 4\n",
    " - Item 5\n",
    "```\n",
    "Visualización de una lista no ordenada\n",
    "- Item 1\n",
    "* Item 2\n",
    "* Item 3 \n",
    "+ Item 4\n",
    "- Item 5\n"
   ]
  },
  {
   "cell_type": "markdown",
   "metadata": {},
   "source": [
    "### Anidamiento de elementos de una lista no ordenada\n",
    "\n",
    "Para anidar elementos de una línea en una lista desordenada, usar identación de cuatro espacios o una tabulación a los elementos.\n",
    "```\n",
    "- First item 2 \n",
    "- Second item 3 \n",
    "- Third item 4 \n",
    "    - Indented item 5 \n",
    "    - Indented item 6 \n",
    "- Fourth item\n",
    "```\n",
    "Visualización del ejemplo de lista no ordenada con identación\n",
    "- First item 2 \n",
    "- Second item 3 \n",
    "- Third item 4 \n",
    "    - Indented item 5 \n",
    "    - Indented item 6 \n",
    "- Fourth item"
   ]
  },
  {
   "cell_type": "markdown",
   "metadata": {},
   "source": [
    "## Imágenes\n",
    "\n",
    "El código para insertar una imagen en el texto es similar al código para insertar enlaces de ancora, agregando un signo de exclamación `!` al principio del código, seguido del texto alternativo entre corchetes y la URL del recurso de imagen entre paréntesis. Opcionalmente, puedes agregar un título después de la URL entre paréntesis.\n",
    "\n",
    "`![Universidad Nacional de Piura](images/unp.png \"UNP\")`\n",
    "\n",
    "Visualización del ejemplo\n",
    "\n",
    "![Universidad Nacional de Piura](images/unp.png \"UNP\")\n"
   ]
  },
  {
   "cell_type": "markdown",
   "metadata": {},
   "source": [
    "## Código\n",
    "\n",
    "Para indicar una palabra o frase como código, enciérrela entre marcas de verificación (`).\n",
    "\n",
    "Hay dos formas de agregar fragmentos de código a Markdown:\n",
    "- **Código en línea** (*inline*): agregue un acento grave ˋ al principio y al final del código.\n",
    "- **Varias líneas de código**: rodear las líneas de código con tres comillas invertidas ˋˋˋ o tres tildes ~~~."
   ]
  },
  {
   "cell_type": "markdown",
   "metadata": {},
   "source": [
    "Ejemplo de uso:\n",
    "\n",
    "- Código en una línea que contiene una llamada a la función `numero_read(x)`\n",
    "\n",
    "- Código en varias líneas: puede especificar qué tipo de lenguaje se presenta en el bloque de código agregando el nombre del lenguaje de programación después de ˋˋˋ o `~~~`.\n",
    "    ```\n",
    "    ```python\n",
    "    import numpy as np\n",
    "    def numero_real(x):\n",
    "        x = np.float(x)\n",
    "    return x\n",
    "    ```\n",
    "    ```\n",
    "Visualización del ejemplo usando el lenguaje Python:\n",
    "```python\n",
    "import numpy as np\n",
    "def numero_real(x):\n",
    "    x = np.float(x)\n",
    "    return x\n",
    " ```"
   ]
  },
  {
   "cell_type": "markdown",
   "metadata": {},
   "source": [
    "## Tablas \n",
    "\n",
    "Para agregar una tabla, use tres o más guiones (---) para crear el encabezado de cada columna y se usa barras verticales (|) para separar cada columna. Se puede especificar el tipo de alineación que desea tener en las tablas, usar `:` antes o depues del campo de guión horizontal `---`.\n",
    "\n",
    "Alineaciones:\n",
    "- **Alineado a la izquierda**: usar `:` en el lado izquierdo (alineación estandar)\n",
    "- **Centralizado**: usar `:` en los dos lados\n",
    "- **Alineado a la derecha**: usar `:` en el lado direcho.\n",
    "\n",
    "Ejemplo\n",
    "```\n",
    "|Nome       | Nota  | Aprovado |\n",
    "|:--------- |:-----:|---------:|\n",
    "|Aluno 1    | 9,5   | sim      |\n",
    "|Aluno 2    | 8     | sim      |\n",
    "|Aluno 3    | 7     | sim      |\n",
    "|Aluno 4    | 4     | não      |\n",
    "```\n",
    "Visualización del ejemplo de tabla\n",
    "\n",
    "|Nome       | Nota  | Aprovado |\n",
    "|:--------- |:-----:|---------:|\n",
    "|Aluno 1    | 9,5   | sim\n",
    "|Aluno 2    | 8     | sim\n",
    "|Aluno 3    | 7     | sim\n",
    "|Aluno 4    | 4     | não"
   ]
  },
  {
   "cell_type": "markdown",
   "metadata": {
    "id": "5AAXwPGWkWUL"
   },
   "source": [
    "## Markdown y Latex\n",
    "\n",
    "Un documento Markdown puede contener fragmentos de gráficos incrustados, códigos fuente y fórmulas LaTeX. LaTeX es un sistema de composición tipográfica de alta calidad que incluye funciones diseñadas para la producción de documentación técnica y científica. \n",
    "\n",
    ">Un conocimiento básico de *Markdown* y *LaTeX* puede permitir crear documentos HTML como blogs o informes con mucha facilidad."
   ]
  },
  {
   "cell_type": "markdown",
   "metadata": {},
   "source": [
    "Para una ecuación en línea, usar `$`como en esta fórmula `$x^{2}+4=0$` que se visualiza asi $x^{2}+4=0$\n",
    "\n",
    "Para una ecuación o ambiente, usar `$$`, como en esta fórmula `$$\\frac{dˆ2y}{dxˆ2} = \\int_aˆb f(x)dx$$` que se visualiza en la siguiente línea, asi $$\\frac{dˆ2y}{dxˆ2} = \\int_aˆb f(x) dx $$"
   ]
  },
  {
   "cell_type": "markdown",
   "metadata": {},
   "source": [
    "Funciones\n",
    "\n",
    "```\n",
    "$$\n",
    "f(x)=\n",
    "\\begin{cases}\n",
    "1/d_{ij} & \\quad \\text{when $d_{ij} \\leq 160$}\\\\ \n",
    "0 & \\quad \\text{otherwise}\n",
    "\\end{cases}\n",
    "$$\n",
    "```\n",
    "Visualizar el resultado:\n",
    "$$\n",
    "f(x)=\n",
    "\\begin{cases}\n",
    "1/d_{ij} & \\quad \\text{when $d_{ij} \\leq 160$}\\\\ \n",
    "0 & \\quad \\text{otherwise}\n",
    "\\end{cases}\n",
    "$$"
   ]
  },
  {
   "cell_type": "markdown",
   "metadata": {},
   "source": [
    "Matrizes\n",
    "\n",
    "```\n",
    "$$\n",
    "M = \n",
    "\\begin{bmatrix}\n",
    "\\frac{5}{6} & \\frac{1}{6} & 0 \\\\[0.3em]\n",
    "\\frac{5}{6} & 0 & \\frac{1}{6} \\\\[0.3em]\n",
    "0 & \\frac{5}{6} & \\frac{1}{6}\n",
    "\\end{bmatrix}\n",
    "$$\n",
    "```\n",
    "Visualizar el resultado:\n",
    "\n",
    "$$\n",
    "M = \n",
    "\\begin{bmatrix}\n",
    "\\frac{5}{6} & \\frac{1}{6} & 0 \\\\[0.3em]\n",
    "\\frac{5}{6} & 0 & \\frac{1}{6} \\\\[0.3em]\n",
    "0 & \\frac{5}{6} & \\frac{1}{6}\n",
    "\\end{bmatrix}\n",
    "$$\n",
    "\n",
    "\n",
    "```\n",
    "$$ \n",
    "N =\n",
    "\\begin{pmatrix}\n",
    "1 & 0 \\\\\n",
    "0 & 1\n",
    "\\end{pmatrix}\n",
    "\\begin{pmatrix}\n",
    "1 & 0 \\\\\n",
    "0 & 1\n",
    "\\end{pmatrix}\n",
    "$$\n",
    "```\n",
    "Visualizar el resultado:\n",
    "\n",
    "$$ \n",
    "N =\n",
    "\\begin{pmatrix}\n",
    "1 & 0 \\\\\n",
    "0 & 1\n",
    "\\end{pmatrix}\n",
    "\\begin{pmatrix}\n",
    "1 & 0 \\\\\n",
    "0 & 1\n",
    "\\end{pmatrix}\n",
    "$$"
   ]
  },
  {
   "cell_type": "markdown",
   "metadata": {
    "id": "5Nkn3ZFekJmw"
   },
   "source": [
    "---\n",
    "#### Fundamentos de Ciência de Dados &copy; Copyright 2021, 2022, 2024, Sergio Serra & Jorge Zavaleta"
   ]
  }
 ],
 "metadata": {
  "colab": {
   "include_colab_link": true,
   "name": "FCD_M1_0_Introducao.ipynb",
   "provenance": []
  },
  "kernelspec": {
   "display_name": "Python 3 (ipykernel)",
   "language": "python",
   "name": "python3"
  },
  "language_info": {
   "codemirror_mode": {
    "name": "ipython",
    "version": 3
   },
   "file_extension": ".py",
   "mimetype": "text/x-python",
   "name": "python",
   "nbconvert_exporter": "python",
   "pygments_lexer": "ipython3",
   "version": "3.12.3"
  }
 },
 "nbformat": 4,
 "nbformat_minor": 1
}
