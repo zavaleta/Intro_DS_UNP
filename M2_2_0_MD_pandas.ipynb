{
 "cells": [
  {
   "cell_type": "markdown",
   "metadata": {},
   "source": [
    "# Python para data science na prática"
   ]
  },
  {
   "cell_type": "markdown",
   "metadata": {},
   "source": [
    "---\n",
    "# Gerenciando dados ausentes com pandas"
   ]
  },
  {
   "cell_type": "markdown",
   "metadata": {},
   "source": [
    "## Introdução\n",
    "\n",
    "Dados ausentes geralmente ocorrem em análises de dados. O Pandas simplifica ao máximo o trabalho com dados ausentes. Por exemplo, todas as estatísticas descritivas de objetos pandas excluem dados ausentes por padrão. O pandas usa o valor de ponto flutuante (não é um número) para que os dados numéricos representem os dados ausentes. `NaN`"
   ]
  },
  {
   "cell_type": "markdown",
   "metadata": {},
   "source": [
    "Métodos para manipular objetos:NA"
   ]
  },
  {
   "cell_type": "markdown",
   "metadata": {},
   "source": [
    "| Argumento | Descrição |\n",
    "|:----------:|:------------|\n",
    "| drpna()    | Filtra rótulos de eixo com base no fato de os valores de cada rótulo terem dados ausentes, com limites diferentes para a quantidade de dados ausentes a serem tolerados |\n",
    "| fillna()     | Preenche os dados ausentes com um valor ou com um método de interpolação, como ou `ffill` ou `bfill` |\n",
    "| isna()       | Retorna valores booleanos indicando quais valores estão faltando/`NA` |\n",
    "|notna()      | Retorna todos os valores não ausentes nos dados |"
   ]
  },
  {
   "cell_type": "markdown",
   "metadata": {},
   "source": [
    "Este notebook apresenta algumas maneiras de gerenciar dados ausentes usando Pandas DataFrames."
   ]
  },
  {
   "cell_type": "code",
   "execution_count": 1,
   "metadata": {},
   "outputs": [],
   "source": [
    "# importar bibliotecas\n",
    "import pandas as pd\n"
   ]
  },
  {
   "cell_type": "markdown",
   "metadata": {},
   "source": [
    "## Leitura dos dados (dataset)"
   ]
  },
  {
   "cell_type": "code",
   "execution_count": null,
   "metadata": {},
   "outputs": [],
   "source": [
    "# dataset de covid-19 de 2024\n",
    "df_esus = pd.read_csv('data/esus2024.csv', sep=';', on_bad_lines='skip', index_col=False, dtype='unicode')\n",
    "df_esus.head()"
   ]
  },
  {
   "cell_type": "code",
   "execution_count": null,
   "metadata": {},
   "outputs": [],
   "source": [
    "# dimensions\n",
    "df_esus.shape"
   ]
  },
  {
   "cell_type": "code",
   "execution_count": null,
   "metadata": {},
   "outputs": [],
   "source": [
    "\n",
    "df = pd.read_csv(\n",
    "    \"https://raw.githubusercontent.com/kjam/data-cleaning-101/master/data/iot_example_with_nulls.csv\"\n",
    ")\n",
    "df.head()"
   ]
  },
  {
   "cell_type": "code",
   "execution_count": null,
   "metadata": {},
   "outputs": [],
   "source": [
    "df.shape"
   ]
  },
  {
   "cell_type": "markdown",
   "metadata": {},
   "source": [
    "## Verificando os dados\n",
    "\n",
    "No pandas, uma convenção emprestada da linguagem de programação R foi adotada e os dados ausentes foram chamados de `NA`, que significa *não disponível*. Em aplicações estatísticas, os dados podem ser dados que não existem ou dados que existem, mas não foram observados (por exemplo, devido a problemas na coleta de dados). \n",
    "\n",
    "Ao limpar os dados para análise, muitas vezes é *importante analisar os próprios dados ausentes para identificar problemas na coleta de dados ou possíveis vieses nos dados devido a os dados em falta*. Fonte [Missing data](https://www.python4data.science/en/24.1.0/clean-prep/nulls.html)"
   ]
  },
  {
   "cell_type": "markdown",
   "metadata": {},
   "source": [
    "Primeiro, exibimos os primeiros 10 registros de dados:"
   ]
  },
  {
   "cell_type": "code",
   "execution_count": null,
   "metadata": {},
   "outputs": [],
   "source": [
    "# mostra os 20 registros\n",
    "df_esus.head(10)"
   ]
  },
  {
   "cell_type": "code",
   "execution_count": null,
   "metadata": {},
   "outputs": [],
   "source": [
    "df.head(10)"
   ]
  },
  {
   "cell_type": "markdown",
   "metadata": {},
   "source": [
    "Verificar qual tipo de dados têm as colunas"
   ]
  },
  {
   "cell_type": "code",
   "execution_count": null,
   "metadata": {},
   "outputs": [],
   "source": [
    "# tipos\n",
    "df_esus.dtypes"
   ]
  },
  {
   "cell_type": "code",
   "execution_count": null,
   "metadata": {},
   "outputs": [],
   "source": [
    "df.dtypes"
   ]
  },
  {
   "cell_type": "markdown",
   "metadata": {},
   "source": [
    "Também se pode exibir os valores e sua frequência, por exemplo, para uma coluna específica."
   ]
  },
  {
   "cell_type": "code",
   "execution_count": null,
   "metadata": {},
   "outputs": [],
   "source": [
    "# conta os valores das colunas\n",
    "#df_esus.qualAntiviral.value_counts()\n",
    "df_esus.classificacaoFinal.value_counts()"
   ]
  },
  {
   "cell_type": "code",
   "execution_count": null,
   "metadata": {},
   "outputs": [],
   "source": [
    "df.note.value_counts()"
   ]
  },
  {
   "cell_type": "markdown",
   "metadata": {},
   "source": [
    "## Remover todos os valores nulos (incluindo a indicação n/a)"
   ]
  },
  {
   "cell_type": "markdown",
   "metadata": {},
   "source": [
    "### Usando panas.read_csv\n",
    "\n",
    "`pandas.read_csv` geralmente já filtra muitos valores que reconhece como `NA`ou `NAN`. Outros valores podem ser especificados com `na_values`"
   ]
  },
  {
   "cell_type": "code",
   "execution_count": null,
   "metadata": {},
   "outputs": [],
   "source": [
    "# caso 1\n",
    "df_esus1 = pd.read_csv('data/esus2024.csv', sep=';', on_bad_lines='skip', index_col=False, dtype='unicode', na_values=[\"n/a\"])\n",
    "df_esus1.head()"
   ]
  },
  {
   "cell_type": "code",
   "execution_count": null,
   "metadata": {},
   "outputs": [],
   "source": [
    "df_esus1.shape"
   ]
  },
  {
   "cell_type": "code",
   "execution_count": null,
   "metadata": {},
   "outputs": [],
   "source": [
    "# caso 2\n",
    "df2 = pd.read_csv(\n",
    "    \"https://raw.githubusercontent.com/kjam/data-cleaning-101/master/data/iot_example_with_nulls.csv\",\n",
    "    na_values=[\"n/a\"],)\n",
    "df2.head()"
   ]
  },
  {
   "cell_type": "markdown",
   "metadata": {},
   "source": [
    "### Usando `pandas.DataFrame.dropna`\n",
    "\n",
    "Valores ausentes podem ser excluídos com pandas `DataFrame.dropna`.\n",
    "\n",
    "Para analisar a extensão das exclusões, exibimos a extensão do DataFrame antes e depois da exclusão com pandas `DataFrame.shape`"
   ]
  },
  {
   "cell_type": "code",
   "execution_count": null,
   "metadata": {},
   "outputs": [],
   "source": [
    "#caso 1 e 2: antes\n",
    "print('Caso 1:',df_esus1.shape)\n",
    "print('caso 2:',df2.shape)"
   ]
  },
  {
   "cell_type": "code",
   "execution_count": null,
   "metadata": {},
   "outputs": [],
   "source": [
    "# caso 1 e 2 : depois\n",
    "c1 = df_esus1.dropna()\n",
    "c2 = df2.dropna()\n",
    "print('Caso 1:',c1.shape)\n",
    "print('caso 2:',c2.shape)"
   ]
  },
  {
   "cell_type": "markdown",
   "metadata": {},
   "source": [
    "Caso 1: Perderiamos todos os registros.\n",
    "Caso 2: perderíamos mais de 2/3 dos registros com `pandas.DataFrame.dropna`\n",
    "\n",
    "Analisar se as linhas ou colunas têm dados ausentes ou faltantes. Se pode remover linhas ou colunas que não contêm valores.\n",
    "\n",
    "Las linhas/colunas vazias devem ser removidas `how=all` ou `axis=0` (linha) ou `axis=1` (coluna)"
   ]
  },
  {
   "cell_type": "code",
   "execution_count": null,
   "metadata": {},
   "outputs": [],
   "source": [
    "# caso 1: colunas\n",
    "esus_col = df_esus.dropna(how=\"all\", axis=1).shape\n",
    "esus_col"
   ]
  },
  {
   "cell_type": "code",
   "execution_count": null,
   "metadata": {},
   "outputs": [],
   "source": [
    "#caso 2\n",
    "df_col = df.dropna(how='all', axis=1).shape\n",
    "df_col"
   ]
  },
  {
   "cell_type": "markdown",
   "metadata": {},
   "source": [
    "## Encontre todas as colunas onde todos os dados estão presentes"
   ]
  },
  {
   "cell_type": "code",
   "execution_count": null,
   "metadata": {},
   "outputs": [],
   "source": [
    "complete_columns_c1 = list(df_esus.columns)\n",
    "complete_columns_c1"
   ]
  },
  {
   "cell_type": "code",
   "execution_count": null,
   "metadata": {},
   "outputs": [],
   "source": [
    "len(complete_columns_c1)"
   ]
  },
  {
   "cell_type": "code",
   "execution_count": null,
   "metadata": {},
   "outputs": [],
   "source": [
    "complete_columns_c2 = list(df.columns)\n",
    "complete_columns_c2"
   ]
  },
  {
   "cell_type": "markdown",
   "metadata": {},
   "source": [
    "## Encontre todas as colunas onde há mais dados disponíveis"
   ]
  },
  {
   "cell_type": "code",
   "execution_count": null,
   "metadata": {},
   "outputs": [],
   "source": [
    "list(df_esus.dropna(thresh=int(df_esus.shape[0] * 0.9), axis=1).columns)"
   ]
  },
  {
   "cell_type": "code",
   "execution_count": null,
   "metadata": {},
   "outputs": [],
   "source": [
    "# Caso 2\n",
    "list(df.dropna(thresh=int(df.shape[0] * 0.9), axis=1).columns)"
   ]
  },
  {
   "cell_type": "markdown",
   "metadata": {},
   "source": [
    "## Encontre todas as colunas onde faltam dados\n",
    "\n",
    "Usando `pandas.DataFrame.isnull` se pode encontrar valores ausentes e com `pandas.DataFrame.any` se pode saber se um elemento é válido, geralmente por meio de uma coluna."
   ]
  },
  {
   "cell_type": "code",
   "execution_count": 37,
   "metadata": {},
   "outputs": [],
   "source": [
    "# caso 1\n",
    "incomplete_columns_c1 = list(df_esus.columns[df_esus.isnull().any()])"
   ]
  },
  {
   "cell_type": "code",
   "execution_count": null,
   "metadata": {},
   "outputs": [],
   "source": [
    "# caso 1\n",
    "incomplete_columns_c1"
   ]
  },
  {
   "cell_type": "code",
   "execution_count": null,
   "metadata": {},
   "outputs": [],
   "source": [
    "len(incomplete_columns_c1)"
   ]
  },
  {
   "cell_type": "code",
   "execution_count": 39,
   "metadata": {},
   "outputs": [],
   "source": [
    "# caso 2\n",
    "incomplete_columns_c2 = list(df.columns[df.isnull().any()])"
   ]
  },
  {
   "cell_type": "code",
   "execution_count": null,
   "metadata": {},
   "outputs": [],
   "source": [
    "# caso 2\n",
    "incomplete_columns_c2"
   ]
  },
  {
   "cell_type": "markdown",
   "metadata": {},
   "source": [
    "Se pode gerar o número de valores ausentes por coluna usando `num_missing`"
   ]
  },
  {
   "cell_type": "code",
   "execution_count": null,
   "metadata": {},
   "outputs": [],
   "source": [
    "# Caso 1\n",
    "for col in incomplete_columns_c1:\n",
    "    num_missing = df_esus[df_esus[col].isnull() == True].shape[0]\n",
    "    print(f\"numero de valores faltantes por coluna {col}: {num_missing}\")"
   ]
  },
  {
   "cell_type": "code",
   "execution_count": null,
   "metadata": {},
   "outputs": [],
   "source": [
    "# Caso 1\n",
    "for col in incomplete_columns_c2:\n",
    "    num_missing = df[df[col].isnull() == True].shape[0]\n",
    "    print(f\"numero de valores faltantes por coluna {col}: {num_missing}\")"
   ]
  },
  {
   "cell_type": "markdown",
   "metadata": {},
   "source": [
    "Se pode gerar esses valores como uma porcentagem"
   ]
  },
  {
   "cell_type": "code",
   "execution_count": null,
   "metadata": {},
   "outputs": [],
   "source": [
    "# caso 1\n",
    "for col in incomplete_columns_c1:\n",
    "    percent_missing = df_esus[df_esus[col].isnull() == True].shape[0] / df_esus.shape[0]\n",
    "    print(f\"porcentagem de valores faltantes por coluna {col}: {percent_missing}\")"
   ]
  },
  {
   "cell_type": "code",
   "execution_count": null,
   "metadata": {},
   "outputs": [],
   "source": [
    "# caso 2\n",
    "for col in incomplete_columns_c2:\n",
    "    percent_missing = df[df[col].isnull() == True].shape[0] / df.shape[0]\n",
    "    print(f\"porcentagem de valores faltantes por coluna {col}: {percent_missing}\")"
   ]
  },
  {
   "cell_type": "markdown",
   "metadata": {},
   "source": [
    "## Substituir os dados ausentes\n",
    "\n",
    "Para poder verificar as alterações na coluna `caso 1:cns` e `caso2:latest` se usa pandas. `Series.value_counts`. O método retorna uma série contendo o número de valores exclusivos:"
   ]
  },
  {
   "cell_type": "code",
   "execution_count": null,
   "metadata": {},
   "outputs": [],
   "source": [
    "# caso 1\n",
    "df_esus.cns.value_counts()"
   ]
  },
  {
   "cell_type": "code",
   "execution_count": null,
   "metadata": {},
   "outputs": [],
   "source": [
    "# Caso 2\n",
    "df.latest.value_counts()"
   ]
  },
  {
   "cell_type": "markdown",
   "metadata": {},
   "source": [
    "Substituir os valores ausentes na coluna `cns:0` e `latest:0` com `DataFrame.fillna`"
   ]
  },
  {
   "cell_type": "code",
   "execution_count": null,
   "metadata": {},
   "outputs": [],
   "source": [
    "#Caso 1\n",
    "df_esus.cns = df_esus.cns.fillna(0)\n",
    "df_esus.cns.value_counts()"
   ]
  },
  {
   "cell_type": "code",
   "execution_count": null,
   "metadata": {},
   "outputs": [],
   "source": [
    "# caso 2\n",
    "df.latest = df.latest.fillna(0)\n",
    "df.latest.value_counts()"
   ]
  },
  {
   "cell_type": "markdown",
   "metadata": {},
   "source": [
    "---\n",
    "Python para data science &copy; Jorge Zavaleta, 2024"
   ]
  }
 ],
 "metadata": {
  "kernelspec": {
   "display_name": "base",
   "language": "python",
   "name": "python3"
  },
  "language_info": {
   "codemirror_mode": {
    "name": "ipython",
    "version": 3
   },
   "file_extension": ".py",
   "mimetype": "text/x-python",
   "name": "python",
   "nbconvert_exporter": "python",
   "pygments_lexer": "ipython3",
   "version": "3.12.3"
  }
 },
 "nbformat": 4,
 "nbformat_minor": 4
}
