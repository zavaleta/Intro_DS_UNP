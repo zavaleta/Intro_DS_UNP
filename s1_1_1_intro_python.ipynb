{
 "cells": [
  {
   "cell_type": "markdown",
   "metadata": {},
   "source": [
    "![UNP](images/logo_unp_1.png)\n",
    "# Introducción a Ciencia de Datos Usando Python\n",
    "\n",
    "---\n",
    "### Prof. Dr. Jorge Zavaleta - [e-mail](mailto:jorge.zavaleta@ppgi.ufrj.br)\n",
    "\n",
    "---\n",
    "# Módulo 1 - Introducción a Python Básico"
   ]
  },
  {
   "cell_type": "markdown",
   "metadata": {},
   "source": [
    "### Introducción\n",
    "\n",
    "Python es un lenguaje de programación poderoso y accesible, ideal para resolver problemas de datos de diversas escalas y complejidades. Es la herramienta más popular en el campo de la ciencia de datos y frecuentemente se menciona como requisito en las ofertas de trabajo de este sector.\n",
    "\n",
    "Python destaca por su facilidad de aprendizaje, lo que lo convierte en una excelente opción para principiantes. A la vez, su potencia y capacidad de extensión lo hacen adecuado para tareas avanzadas en ciencia de datos.\n",
    "\n",
    "Este módulo comenzará con una introducción a Python y luego profundizará en su uso para abordar diversos problemas de datos mediante el procesamiento estadístico, numpy, pandas y el aprendizaje automático."
   ]
  },
  {
   "cell_type": "markdown",
   "metadata": {},
   "source": [
    "### Ejemplos básico"
   ]
  },
  {
   "cell_type": "code",
   "execution_count": 1,
   "metadata": {},
   "outputs": [
    {
     "name": "stdout",
     "output_type": "stream",
     "text": [
      "Hola, todos\n"
     ]
    }
   ],
   "source": [
    "print('Hola, todos')"
   ]
  },
  {
   "cell_type": "markdown",
   "metadata": {},
   "source": [
    "Operadores aritméticos"
   ]
  },
  {
   "cell_type": "code",
   "execution_count": 3,
   "metadata": {},
   "outputs": [
    {
     "data": {
      "text/plain": [
       "(8, -4, 25, 0.6, 8)"
      ]
     },
     "execution_count": 3,
     "metadata": {},
     "output_type": "execute_result"
    }
   ],
   "source": [
    "4 + 4, 2 -6, 5*5, 3/5, 2**3"
   ]
  },
  {
   "cell_type": "markdown",
   "metadata": {},
   "source": [
    "Opradores lógicos"
   ]
  },
  {
   "cell_type": "code",
   "execution_count": 4,
   "metadata": {},
   "outputs": [
    {
     "data": {
      "text/plain": [
       "(False, False, True)"
      ]
     },
     "execution_count": 4,
     "metadata": {},
     "output_type": "execute_result"
    }
   ],
   "source": [
    "2 > 3, 5 == 6, 3<=8"
   ]
  },
  {
   "cell_type": "markdown",
   "metadata": {},
   "source": [
    "### Tipos de datos"
   ]
  },
  {
   "cell_type": "code",
   "execution_count": 5,
   "metadata": {},
   "outputs": [
    {
     "data": {
      "text/plain": [
       "int"
      ]
     },
     "execution_count": 5,
     "metadata": {},
     "output_type": "execute_result"
    }
   ],
   "source": [
    "x = 4\n",
    "type(x)"
   ]
  },
  {
   "cell_type": "markdown",
   "metadata": {},
   "source": [
    "### Variables\n"
   ]
  },
  {
   "cell_type": "markdown",
   "metadata": {},
   "source": []
  },
  {
   "cell_type": "code",
   "execution_count": null,
   "metadata": {},
   "outputs": [],
   "source": []
  },
  {
   "cell_type": "markdown",
   "metadata": {},
   "source": [
    "### Operadores"
   ]
  },
  {
   "cell_type": "code",
   "execution_count": null,
   "metadata": {},
   "outputs": [],
   "source": [
    "#"
   ]
  },
  {
   "cell_type": "markdown",
   "metadata": {},
   "source": [
    "### Estructuras de Control"
   ]
  },
  {
   "cell_type": "markdown",
   "metadata": {},
   "source": []
  },
  {
   "cell_type": "markdown",
   "metadata": {},
   "source": [
    "### Funciones"
   ]
  },
  {
   "cell_type": "code",
   "execution_count": null,
   "metadata": {},
   "outputs": [],
   "source": []
  },
  {
   "cell_type": "markdown",
   "metadata": {},
   "source": [
    "### Strings\n",
    "\n",
    "Las strings son listas de caracteres. Cualquier carácter que pueda escribir en el teclado de su computadora, así como muchos otros caracteres, puede ser elemento de una cadena. Las strings se crean encerrando una secuencia de caracteres entre comillas simples o dobles."
   ]
  },
  {
   "cell_type": "markdown",
   "metadata": {},
   "source": [
    "Ejemplos de strings:\n",
    "- a = \"Mi perro esta fuera de casa\"\n",
    "- b = \"Gane la loteria\""
   ]
  },
  {
   "cell_type": "code",
   "execution_count": 12,
   "metadata": {},
   "outputs": [
    {
     "data": {
      "text/plain": [
       "'Mi perro está fuera de casa.  Gane la loteria.'"
      ]
     },
     "execution_count": 12,
     "metadata": {},
     "output_type": "execute_result"
    }
   ],
   "source": [
    "# ejemplo de concatenación de strings\n",
    "a = \"Mi perro está fuera de casa\"\n",
    "b = \" Gane la loteria.\"\n",
    "c = a + \". \" + b\n",
    "c"
   ]
  },
  {
   "cell_type": "code",
   "execution_count": 13,
   "metadata": {},
   "outputs": [
    {
     "data": {
      "text/plain": [
       "' Gane la loteria. Gane la loteria. Gane la loteria. Gane la loteria.'"
      ]
     },
     "execution_count": 13,
     "metadata": {},
     "output_type": "execute_result"
    }
   ],
   "source": [
    "#Usar el operador `*`para concatenar strings\n",
    "d = 4 * b\n",
    "d"
   ]
  },
  {
   "cell_type": "markdown",
   "metadata": {},
   "source": [
    "### Listas []"
   ]
  },
  {
   "cell_type": "markdown",
   "metadata": {},
   "source": [
    "Python tiene dos estructuras de datos, listas y tuplas, que consisten de una lista de uno o más elementos. Los elementos de las listas o tuplas pueden ser números, cadenas o ambos.\n",
    "\n",
    "Las listas se definen mediante un par de corchetes en cada extremo con elementos individuales separados por comas. Los elementos de la lista pueden ser de cualquier tipo soportado por Python o la combianción de ellos.\n",
    "\n",
    "`[elemento1, elemento2, ..., elementon]`"
   ]
  },
  {
   "cell_type": "code",
   "execution_count": 14,
   "metadata": {},
   "outputs": [
    {
     "data": {
      "text/plain": [
       "[1, 5, -5, 1, 'carro']"
      ]
     },
     "execution_count": 14,
     "metadata": {},
     "output_type": "execute_result"
    }
   ],
   "source": [
    "x = [1, 5, -5, 1, 'carro']\n",
    "x"
   ]
  },
  {
   "cell_type": "markdown",
   "metadata": {},
   "source": [
    "#### Cortes de listas\n",
    "\n",
    "Se puede acceder a partes de una listas utilizando la función de corte (*slicing*) de Python."
   ]
  },
  {
   "cell_type": "code",
   "execution_count": 21,
   "metadata": {},
   "outputs": [
    {
     "data": {
      "text/plain": [
       "[6, 3, 'juego', 1.5, 'niños & niñas', 3.1415, 'teste']"
      ]
     },
     "execution_count": 21,
     "metadata": {},
     "output_type": "execute_result"
    }
   ],
   "source": [
    "#slicing\n",
    "lista_A = [6, 3, 'juego', 1.5, 'niños & niñas', 3.1415, 'teste']\n",
    "lista_A"
   ]
  },
  {
   "cell_type": "code",
   "execution_count": 24,
   "metadata": {},
   "outputs": [
    {
     "name": "stdout",
     "output_type": "stream",
     "text": [
      "['juego', 1.5]\n",
      "[6, 3, 'juego', 1.5, 'niños & niñas', 3.1415]\n",
      "['juego', 1.5, 'niños & niñas', 3.1415, 'teste']\n",
      "[6, 3, 'juego', 1.5, 'niños & niñas']\n",
      "[6, 3, 'juego', 1.5, 'niños & niñas', 3.1415, 'teste']\n",
      "[3, 'juego', 1.5, 'niños & niñas', 3.1415]\n"
     ]
    }
   ],
   "source": [
    "print(lista_A[2:4])\n",
    "print(lista_A[:-1])\n",
    "print(lista_A[2:])\n",
    "print(lista_A[:5])\n",
    "print(lista_A[:])\n",
    "print(lista_A[1:-1]) #?"
   ]
  },
  {
   "cell_type": "markdown",
   "metadata": {},
   "source": [
    "##### len()\n",
    "\n",
    "Se puede obtener la longitud de una lista usando la función `len` de Python."
   ]
  },
  {
   "cell_type": "code",
   "execution_count": 25,
   "metadata": {},
   "outputs": [
    {
     "data": {
      "text/plain": [
       "7"
      ]
     },
     "execution_count": 25,
     "metadata": {},
     "output_type": "execute_result"
    }
   ],
   "source": [
    "# len()\n",
    "len(lista_A)"
   ]
  },
  {
   "cell_type": "markdown",
   "metadata": {},
   "source": [
    "#### Tuplas ()"
   ]
  },
  {
   "cell_type": "code",
   "execution_count": null,
   "metadata": {},
   "outputs": [],
   "source": []
  },
  {
   "cell_type": "markdown",
   "metadata": {},
   "source": [
    "### Diccionários\n",
    "\n",
    "Los diccionarios son como listas, pero se diferencian de las listas en la forma en que se accede a sus elementos. Los elementos de listas y matrices se ordenan secuencialmente, y para acceder a un elemento de una lista o matriz, se hace referencia al número correspondiente a su posición en la secuencia. \n",
    "\n",
    "El acesso a los elementos de los diccionarios se hace mediante “claves”, que pueden ser cadenas de programas o números enteros (arbitrarios) (sin ningún orden en particular). Los diccionarios son una parte esencial del núcleo de Python."
   ]
  },
  {
   "cell_type": "markdown",
   "metadata": {},
   "source": []
  },
  {
   "cell_type": "markdown",
   "metadata": {},
   "source": [
    "### Estadistica básica"
   ]
  },
  {
   "cell_type": "code",
   "execution_count": null,
   "metadata": {},
   "outputs": [],
   "source": []
  },
  {
   "cell_type": "markdown",
   "metadata": {},
   "source": [
    "### Importación de datos"
   ]
  },
  {
   "cell_type": "code",
   "execution_count": null,
   "metadata": {},
   "outputs": [],
   "source": []
  },
  {
   "cell_type": "markdown",
   "metadata": {},
   "source": [
    "### Gráfico de datos"
   ]
  },
  {
   "cell_type": "code",
   "execution_count": null,
   "metadata": {},
   "outputs": [],
   "source": []
  },
  {
   "cell_type": "markdown",
   "metadata": {},
   "source": [
    "---\n",
    "Copyright &copy; Jorge Zavaleta, 2024"
   ]
  }
 ],
 "metadata": {
  "kernelspec": {
   "display_name": "base",
   "language": "python",
   "name": "python3"
  },
  "language_info": {
   "codemirror_mode": {
    "name": "ipython",
    "version": 3
   },
   "file_extension": ".py",
   "mimetype": "text/x-python",
   "name": "python",
   "nbconvert_exporter": "python",
   "pygments_lexer": "ipython3",
   "version": "3.12.3"
  }
 },
 "nbformat": 4,
 "nbformat_minor": 2
}
