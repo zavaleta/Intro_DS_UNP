{
 "cells": [
  {
   "cell_type": "markdown",
   "metadata": {},
   "source": [
    "# Python para data science na prática\n",
    "---"
   ]
  },
  {
   "cell_type": "markdown",
   "metadata": {},
   "source": [
    "## Análise exploratória de dados (EDA) - Visualização de dados em Python"
   ]
  },
  {
   "cell_type": "markdown",
   "metadata": {},
   "source": [
    "A visualização de dados é um componente crítico da Análise Exploratória de Dados (EDA). Isso nos ajuda a entender muito melhor os relacionamentos, padrões e tendências ocultas em nossos dados. Com os gráficos ou recursos visuais corretos, as tendências em conjuntos de dados grandes e complexos podem ser facilmente interpretadas e os padrões ocultos ou discrepantes podem ser facilmente identificados. \n",
    "\n",
    "Os dados podem ser visualizados usando uma ampla variedade de bibliotecas. A seguir exploraremos as bibliotecas de visualização de dados mais comuns em Python:\n",
    "- Preparação para visualização \n",
    "- Visualização de dados em Matplotlib\n",
    "- Visualização de dados em Seaborn \n",
    "- Visualização de dados em Bokeh"
   ]
  },
  {
   "cell_type": "code",
   "execution_count": 1,
   "metadata": {},
   "outputs": [],
   "source": [
    "# importando as bibliotecas\n",
    "import matplotlib as mpl                       # usada ocasionalmente 3D\n",
    "import matplotlib.pyplot as plt                # importar a biblioteca matplotlib\n",
    "import numpy as np                             # importar numpy\n",
    "import pandas as pd                            # importat pandas\n",
    "#                                              # estilo da biblioteca\n",
    "%matplotlib inline                            \n",
    "#%config InlineBackend.figure_format='svg'\n",
    "#plt.style.use('classic')                       # estilo da biblioteca"
   ]
  },
  {
   "cell_type": "markdown",
   "metadata": {},
   "source": [
    "### Preparação para visualização"
   ]
  },
  {
   "cell_type": "code",
   "execution_count": null,
   "metadata": {},
   "outputs": [],
   "source": [
    "# leitura do dataset\n",
    "casa_data = pd.read_csv(\"data/HousingPricesData.csv\",index_col=0) # ,index_col=0)\n",
    "casa_data.head()"
   ]
  },
  {
   "cell_type": "markdown",
   "metadata": {},
   "source": [
    "Usar colunas com dados relevantes"
   ]
  },
  {
   "cell_type": "code",
   "execution_count": null,
   "metadata": {},
   "outputs": [],
   "source": [
    "casas_data = casa_data[['Zip', 'Price', 'Area', 'Room']]\n",
    "casas_data.head()"
   ]
  },
  {
   "cell_type": "code",
   "execution_count": null,
   "metadata": {},
   "outputs": [],
   "source": [
    "# dimesões\n",
    "print('Dim:',casas_data.shape)\n",
    "print('Tipos:',casas_data.dtypes)"
   ]
  },
  {
   "cell_type": "markdown",
   "metadata": {},
   "source": [
    "Criar uma variável `PricexM2` baseadas nas variáveis `Price` e `Area`."
   ]
  },
  {
   "cell_type": "code",
   "execution_count": null,
   "metadata": {},
   "outputs": [],
   "source": [
    "pd.options.mode.copy_on_write = True # erro\n",
    "casas_data['PricexM2'] = casas_data['Price']/ casas_data['Area']\n",
    "casas_data.head()"
   ]
  },
  {
   "cell_type": "markdown",
   "metadata": {},
   "source": [
    "### Visualização de dados em Matplotlib\n",
    "\n",
    "Matplotlib é uma biblioteca para visualização de dados em Python, permitindo a criação de visualizações tanto estáticas quanto interativas. Ela oferece uma ampla variedade de opções visuais, incluindo gráficos de linhas, gráficos de barras, histogramas e mais. \n",
    "\n",
    "Construída sobre matrizes NumPy, Matplotlib é uma API de baixo nível que proporciona flexibilidade para criar visuais simples e complexos. Contudo, essa flexibilidade também significa que tarefas simples podem ser mais complicadas de realizar.\n",
    "\n",
    "O módulo `pyplot` dentro do matplotlib lida com as necessidades de visualização. Alguns conceitos importantes encontrados ao usar a biblioteca matplotlib incluem o seguintes: \n",
    "- *Figura*: Este é o quadro dentro do qual os gráficos são plotados Simplificando, a figura é onde a plotagem é feita.\n",
    "- *Eixos*: São as linhas horizontais e verticais (eixos x e y) que fornecem a borda do gráfico e atuam como referência para medição.\n",
    "- *Marcas*: São as pequenas linhas que nos ajudam a demarcar nossos eixos.  \n",
    "- *Título*: Este é o título do nosso gráfico dentro da figura.\n",
    "- *Rótulos*: Estes são os rótulos dos nossos ticks ao longo dos eixos. \n",
    "- *Legenda*: Fornece informações adicionais sobre o gráfico para auxiliar na interpretação correta.  "
   ]
  },
  {
   "cell_type": "code",
   "execution_count": null,
   "metadata": {},
   "outputs": [],
   "source": [
    "# Exemplo: usando o dataset da seção anterior\n",
    "casas_data.head()"
   ]
  },
  {
   "cell_type": "code",
   "execution_count": null,
   "metadata": {},
   "outputs": [],
   "source": [
    "# verificando tipos\n",
    "casa_data.dtypes"
   ]
  },
  {
   "cell_type": "markdown",
   "metadata": {},
   "source": [
    "Classificar o dataframe com base nos preços das casas e inspecione a saída"
   ]
  },
  {
   "cell_type": "code",
   "execution_count": null,
   "metadata": {},
   "outputs": [],
   "source": [
    "# classificação em função do preco\n",
    "casas_sorted = casas_data.sort_values(['Price'], ascending = False) \n",
    "casas_sorted.head()"
   ]
  },
  {
   "cell_type": "markdown",
   "metadata": {},
   "source": [
    "Gráfico de barras usando matplotlib com detalhes básicos"
   ]
  },
  {
   "cell_type": "code",
   "execution_count": null,
   "metadata": {},
   "outputs": [],
   "source": [
    "# grafico de barras\n",
    "plt.figure(figsize=(12,6))\n",
    "x = casas_sorted['Zip'][0:10]\n",
    "y = casas_sorted['Price'][0:10]\n",
    "plt.bar(x,y)\n",
    "plt.show()"
   ]
  },
  {
   "cell_type": "markdown",
   "metadata": {},
   "source": [
    "Gráfico de barras usando matplotlib com detalhes adicionais"
   ]
  },
  {
   "cell_type": "code",
   "execution_count": null,
   "metadata": {},
   "outputs": [],
   "source": [
    "# grafico de barras com detalhes adicionais\n",
    "plt.figure(figsize=(12,6))\n",
    "x = casas_sorted['Zip'][0:10]\n",
    "y = casas_sorted['Price'][0:10]\n",
    "plt.bar(x,y)\n",
    "plt.title('10 áreas mais valorizadas', fontsize=15)\n",
    "plt.xlabel('Código de CEP', fontsize=12)\n",
    "plt.xticks(fontsize=10)\n",
    "plt.ylabel('Preço das casas em millhões', fontsize=12)\n",
    "plt.yticks(fontsize=10)\n",
    "plt.show()"
   ]
  },
  {
   "cell_type": "markdown",
   "metadata": {},
   "source": [
    "Criando subplots"
   ]
  },
  {
   "cell_type": "code",
   "execution_count": null,
   "metadata": {},
   "outputs": [],
   "source": [
    "fig, ax = plt.subplots(figsize=(40,18)) \n",
    "x = casas_sorted['Zip'][0:10] \n",
    "y = casas_sorted['Price'][0:10] \n",
    "y1 = casas_sorted['PricexM2'] [0:10] \n",
    "#\n",
    "plt.subplot(1,2,1) \n",
    "#\n",
    "plt.bar(x,y) \n",
    "plt.xticks(fontsize=15) \n",
    "plt.ylabel('Preços de casas em milhões', fontsize=25) \n",
    "plt.yticks( fontsize=20) \n",
    "plt.title('10 principais áreas com os preços de casas mais altos', fontsize=25)\n",
    "#\n",
    "plt.subplot(1,2,2) \n",
    "#\n",
    "plt.bar(x,y1)\n",
    "plt.xticks(fontsize=15) \n",
    "plt.ylabel('Preços de casas por m²', fontsize=25) \n",
    "plt.yticks(fontsize=20) \n",
    "plt.title('10 principais áreas com os preços de casas mais altos por m²', fontsize= 25)\n",
    "plt.show()"
   ]
  },
  {
   "cell_type": "markdown",
   "metadata": {},
   "source": [
    "### Visualizando dados no Seaborn \n",
    "\n",
    "Seaborn é outra popular biblioteca de visualização de dados em Python, baseada no Matplotlib e que se integra bem com as estruturas de dados do Pandas. Usado principalmente para criar gráficos estatísticos, Seaborn é ideal para Análise Exploratória de Dados (EDA). \n",
    "\n",
    "Seaborn utiliza o Matplotlib para desenhar os gráficos nos bastidores, mas sua API de alto nível torna o uso mais fácil e rápido. Enquanto o Matplotlib pode ser complicado e exigir várias linhas de código para tarefas simples, Seaborn oferece uma configuração mais fácil e intuitiva, facilitando o ajuste e a criação de visualizações.\n",
    "\n",
    "Muitos dos termos do matplotlib também se aplicam ao Seaborn, como eixos, marcações, legendas, títulos, rótulos e assim por diante."
   ]
  },
  {
   "cell_type": "code",
   "execution_count": 24,
   "metadata": {},
   "outputs": [],
   "source": [
    "# importando a biblioteca\n",
    "import seaborn as sns"
   ]
  },
  {
   "cell_type": "code",
   "execution_count": null,
   "metadata": {},
   "outputs": [],
   "source": [
    "# usando o mesmo dataset anterior\n",
    "casas_sorted.head()"
   ]
  },
  {
   "cell_type": "markdown",
   "metadata": {},
   "source": [
    "Grafico de barras usando Seaborn"
   ]
  },
  {
   "cell_type": "code",
   "execution_count": null,
   "metadata": {},
   "outputs": [],
   "source": [
    "# usando seaborn\n",
    "plt.figure(figsize=(12,6))\n",
    "data = casas_sorted[0:12]\n",
    "sns.barplot(data=data,x='Zip',y='Price',hue='Zip');"
   ]
  },
  {
   "cell_type": "markdown",
   "metadata": {},
   "source": [
    "Gráfico de barras em Seaborn com detalhes informativos adicionais, como título, rótulo x e rótulo y"
   ]
  },
  {
   "cell_type": "code",
   "execution_count": null,
   "metadata": {},
   "outputs": [],
   "source": [
    "# usando seaborn\n",
    "plt.figure(figsize=(12,6))\n",
    "data = casas_sorted[0:12]\n",
    "#\n",
    "fx = sns.barplot(data=data,x='Zip',y='Price',hue='Zip')\n",
    "fx.set_xlabel('Código de CEP',fontsize=12)\n",
    "fx.set_ylabel('Preço das casas em millões', fontsize=12)\n",
    "fx.set_title('As 10 casas mais caras',fontsize=15);\n"
   ]
  },
  {
   "cell_type": "markdown",
   "metadata": {},
   "source": [
    "Criando subplot com Seaborn"
   ]
  },
  {
   "cell_type": "code",
   "execution_count": null,
   "metadata": {},
   "outputs": [],
   "source": [
    "fig, ax= plt.subplots(1, 2,figsize=(45,20)) \n",
    "data = casas_sorted[0:10] \n",
    "sns.set_theme(font_scale = 3) \n",
    "#\n",
    "ax1 = sns.barplot(data=data, x='Zip',y='Price', ax=ax[0],hue='Zip') \n",
    "ax1.set_xlabel('Código postal') \n",
    "ax1.set_ylabel('Preços de casas em milhões') \n",
    "ax1.set_title('10 principais áreas com os preços de casas mais altos')\n",
    "# \n",
    "ax2 = sns.barplot(data=data, x='Zip', y ='PricexM2', ax=ax[1],hue='Zip') \n",
    "ax2.set_xlabel('CEP') \n",
    "ax2.set_ylabel('Preços de casas por m²') \n",
    "ax2.set_title('10 principais áreas com o preço mais alto por m²');"
   ]
  },
  {
   "cell_type": "markdown",
   "metadata": {},
   "source": [
    "### Visualizando dados em Bokeh \n",
    "\n",
    "Bokeh é uma popular biblioteca de visualização de dados em Python, que oferece gráficos interativos e visualmente atraentes. Esses gráficos permitem que os usuários analisem diversos cenários de forma interativa. \n",
    "\n",
    "Bokeh também suporta JavaScript personalizado para casos de uso avançados e específicos de visualização. Além disso, os gráficos criados com Bokeh podem ser facilmente incorporados em páginas da web. \n",
    "\n",
    "Os glifos são os blocos de construção das visualizações Bokeh. Um glifo é uma forma geométrica ou marcador usado para representar dados. Normalmente, um gráfico é composto por uma ou mais dessas formas geométricas, como linha, quadrado, círculo e retângulo, que fornecem informações visuais sobre o dataset correspondente. \n",
    "\n",
    "Muitos dos termos usados em matplotlib também se aplicam ao bokeh, e a sintaxe também é bastante semelhante."
   ]
  },
  {
   "cell_type": "code",
   "execution_count": null,
   "metadata": {},
   "outputs": [],
   "source": [
    "# importando as bibliotecas\n",
    "from bokeh.plotting import figure, show\n",
    "import bokeh.plotting as bk_plot\n",
    "from bokeh.io import output_notebook\n",
    "output_notebook()"
   ]
  },
  {
   "cell_type": "code",
   "execution_count": null,
   "metadata": {},
   "outputs": [],
   "source": [
    "# usando o mesmo dataset\n",
    "casas_sorted.head()"
   ]
  },
  {
   "cell_type": "markdown",
   "metadata": {},
   "source": [
    "Gráfico de barras usando `Bokeh` com detalhes básico"
   ]
  },
  {
   "cell_type": "code",
   "execution_count": null,
   "metadata": {},
   "outputs": [],
   "source": [
    "# exemplo bokeh\n",
    "datab = casas_sorted[0:12]\n",
    "fig = figure(x_range=datab['Zip'],plot_width=700,plot_height=500)\n",
    "fig.vbar(x=datab['Zip'],top=datab['Price'],width=0.9)\n",
    "show(fig)"
   ]
  },
  {
   "cell_type": "markdown",
   "metadata": {},
   "source": [
    "Gráfico bokeh com detalhes"
   ]
  },
  {
   "cell_type": "code",
   "execution_count": null,
   "metadata": {},
   "outputs": [],
   "source": [
    "# exemplo bokeh\n",
    "datab = casas_sorted[0:12]\n",
    "fig = figure(x_range=datab['Zip'],plot_width=700,plot_height=500,\n",
    "title='10 casas mais vlorizadas',\n",
    "x_axis_label='Código CEP',\n",
    "y_axis_label ='valor das casas em milhões')\n",
    "#\n",
    "fig.vbar(x=datab['Zip'],top=datab['Price'],width=0.9)\n",
    "#\n",
    "fig.xaxis.axis_label_text_font_size = \"15pt\" \n",
    "fig.xaxis.major_label_text_font_size = \"10pt\" \n",
    "fig.yaxis.axis_label_text_font_size = \"15pt\" \n",
    "fig.yaxis.major_label_text_font_size = \"10pt\" \n",
    "fig.title.text_font_size = '15pt'\n",
    "#\n",
    "show(fig)"
   ]
  },
  {
   "cell_type": "markdown",
   "metadata": {},
   "source": [
    "Criar subolts em bokeh para visualizar múltiplas perspectivas ao mesmo tempo"
   ]
  },
  {
   "cell_type": "code",
   "execution_count": null,
   "metadata": {},
   "outputs": [],
   "source": [
    "p1 = figure(x_range = datab['Zip'],plot_width = 480, plot_height = 400, \n",
    "            title = 'Top 10 áreas com maior valor', \n",
    "            x_axis_label = 'CEP', \n",
    "            y_axis_label = 'Preços de casas em milhões') \n",
    "p1.vbar(x= datab['Zip'], top=datab['Price'], width = 0.9)\n",
    "# \n",
    "p2 = figure(x_range = datab['Zip'],\n",
    "            plot_width = 480, \n",
    "            plot_height = 400, \n",
    "            title = ' As 10 principais áreas com casa de maior valor por m²', \n",
    "            x_axis_label = 'CEP', \n",
    "            y_axis_label = 'Preços de casas por m²') \n",
    "p2.vbar(x= data['Zip'], top = data['PricexM2'], width = 0.9) \n",
    "#\n",
    "gp = bk_plot.gridplot(children=[[p1, p2]]) \n",
    "bk_plot.show(gp)"
   ]
  },
  {
   "cell_type": "markdown",
   "metadata": {},
   "source": [
    "---\n",
    "Python para data science na prática &copy; Jorge Zavaleta, 2024"
   ]
  }
 ],
 "metadata": {
  "kernelspec": {
   "display_name": "EDA",
   "language": "python",
   "name": "python3"
  },
  "language_info": {
   "codemirror_mode": {
    "name": "ipython",
    "version": 3
   },
   "file_extension": ".py",
   "mimetype": "text/x-python",
   "name": "python",
   "nbconvert_exporter": "python",
   "pygments_lexer": "ipython3",
   "version": "3.10.14"
  }
 },
 "nbformat": 4,
 "nbformat_minor": 2
}
